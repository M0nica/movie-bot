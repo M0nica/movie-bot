{
 "cells": [
  {
   "cell_type": "code",
   "execution_count": 100,
   "metadata": {
    "collapsed": false,
    "deletable": true,
    "editable": true
   },
   "outputs": [],
   "source": [
    "import config\n",
    "import time\n",
    "from twython import Twython, TwythonError\n",
    "import requests"
   ]
  },
  {
   "cell_type": "code",
   "execution_count": 101,
   "metadata": {
    "collapsed": false,
    "deletable": true,
    "editable": true
   },
   "outputs": [],
   "source": [
    "imdb_key = config.imdb_key\n",
    "\n",
    "# create a Twython object by passing the necessary secret passwords\n",
    "twitter = Twython(config.api_key, config.api_secret, config.access_token, config.token_secret)\n"
   ]
  },
  {
   "cell_type": "code",
   "execution_count": 102,
   "metadata": {
    "collapsed": true,
    "deletable": true,
    "editable": true
   },
   "outputs": [],
   "source": [
    "response = twitter.get_mentions_timeline(count =1, since_id=14927799)"
   ]
  },
  {
   "cell_type": "code",
   "execution_count": 103,
   "metadata": {
    "collapsed": false,
    "deletable": true,
    "editable": true
   },
   "outputs": [
    {
     "name": "stdout",
     "output_type": "stream",
     "text": [
      "[{'created_at': 'Sat Apr 07 16:14:40 +0000 2018', 'id': 982652891428282369, 'id_str': '982652891428282369', 'text': '@TheMovieFacts_ revenue black panther', 'truncated': False, 'entities': {'hashtags': [], 'symbols': [], 'user_mentions': [{'screen_name': 'TheMovieFacts_', 'name': 'Movie Facts', 'id': 979150529837371394, 'id_str': '979150529837371394', 'indices': [0, 15]}], 'urls': []}, 'source': '<a href=\"http://twitter.com\" rel=\"nofollow\">Twitter Web Client</a>', 'in_reply_to_status_id': None, 'in_reply_to_status_id_str': None, 'in_reply_to_user_id': 979150529837371394, 'in_reply_to_user_id_str': '979150529837371394', 'in_reply_to_screen_name': 'TheMovieFacts_', 'user': {'id': 365119419, 'id_str': '365119419', 'name': 'Monica 👩🏾\\u200d💻', 'screen_name': 'waterproofheart', 'location': 'New York, New York', 'description': 'Making tech more enjoyable & accessible. Always up to chat data vis, web dev or #BlackGirlMagic.👩🏾\\u200d💻https://t.co/w2hCyWdoge | ✍🏾 https://t.co/iwBsmxB8FO', 'url': 'https://t.co/KxvS5PWq7r', 'entities': {'url': {'urls': [{'url': 'https://t.co/KxvS5PWq7r', 'expanded_url': 'http://aboutmonica.com', 'display_url': 'aboutmonica.com', 'indices': [0, 23]}]}, 'description': {'urls': [{'url': 'https://t.co/w2hCyWdoge', 'expanded_url': 'http://github.com/M0nica', 'display_url': 'github.com/M0nica', 'indices': [100, 123]}, {'url': 'https://t.co/iwBsmxB8FO', 'expanded_url': 'http://datalogues.com', 'display_url': 'datalogues.com', 'indices': [129, 152]}]}}, 'protected': False, 'followers_count': 947, 'friends_count': 758, 'listed_count': 71, 'created_at': 'Tue Aug 30 22:03:40 +0000 2011', 'favourites_count': 20148, 'utc_offset': -18000, 'time_zone': 'Quito', 'geo_enabled': True, 'verified': False, 'statuses_count': 11080, 'lang': 'en', 'contributors_enabled': False, 'is_translator': False, 'is_translation_enabled': False, 'profile_background_color': 'C0DEED', 'profile_background_image_url': 'http://pbs.twimg.com/profile_background_images/441609532/er.png', 'profile_background_image_url_https': 'https://pbs.twimg.com/profile_background_images/441609532/er.png', 'profile_background_tile': True, 'profile_image_url': 'http://pbs.twimg.com/profile_images/913888476092932096/O5tHX6n0_normal.jpg', 'profile_image_url_https': 'https://pbs.twimg.com/profile_images/913888476092932096/O5tHX6n0_normal.jpg', 'profile_banner_url': 'https://pbs.twimg.com/profile_banners/365119419/1472932872', 'profile_link_color': '8A6976', 'profile_sidebar_border_color': 'C0DEED', 'profile_sidebar_fill_color': 'DDEEF6', 'profile_text_color': '333333', 'profile_use_background_image': True, 'has_extended_profile': True, 'default_profile': False, 'default_profile_image': False, 'following': False, 'follow_request_sent': False, 'notifications': False, 'translator_type': 'none'}, 'geo': None, 'coordinates': None, 'place': None, 'contributors': None, 'is_quote_status': False, 'retweet_count': 0, 'favorite_count': 0, 'favorited': False, 'retweeted': False, 'lang': 'en'}]\n"
     ]
    }
   ],
   "source": [
    "print(response)"
   ]
  },
  {
   "cell_type": "code",
   "execution_count": 104,
   "metadata": {
    "collapsed": false,
    "deletable": true,
    "editable": true
   },
   "outputs": [
    {
     "name": "stdout",
     "output_type": "stream",
     "text": [
      "black panther\n"
     ]
    }
   ],
   "source": [
    "line = response[0]['text']\n",
    "id = response[0]['id_str']\n",
    "\n",
    "screenname = response[0]['user']['screen_name']\n",
    "\n",
    "\n",
    "\n",
    "#line = \"@TheMovieFacts_ revenue black panther\"\n",
    "movie_query = line[24:]\n",
    "print(movie_query)"
   ]
  },
  {
   "cell_type": "code",
   "execution_count": 105,
   "metadata": {
    "collapsed": false,
    "deletable": true,
    "editable": true
   },
   "outputs": [
    {
     "name": "stdout",
     "output_type": "stream",
     "text": [
      "{'vote_count': 3865, 'id': 284054, 'video': False, 'vote_average': 7.3, 'title': 'Black Panther', 'popularity': 187.354269, 'poster_path': '/uxzzxijgPIY7slzFvMotPv8wjKA.jpg', 'original_language': 'en', 'original_title': 'Black Panther', 'genre_ids': [28, 12, 14, 878], 'backdrop_path': '/b6ZJZHUdMEFECvGiDpJjlfUWela.jpg', 'adult': False, 'overview': 'King T\\'Challa returns home from America to the reclusive, technologically advanced African nation of Wakanda to serve as his country\\'s new leader. However, T\\'Challa soon finds that he is challenged for the throne by factions within his own country as well as without.  Using powers reserved to Wakandan kings, T\\'Challa assumes the Black Panther mantel to join with girlfriend Nakia, the queen-mother, his princess-kid sister,  members of the Dora Milaje (the Wakandan \"special forces\"), and an American secret agent, to prevent Wakanda from being dragged into a world war.', 'release_date': '2018-02-13'}\n"
     ]
    }
   ],
   "source": [
    "# query = \"Black Panther\"\n",
    "response = requests.get('https://api.themoviedb.org/3/search/movie?api_key=' +  imdb_key  + '&language=en-US&page=1&include_adult=false&query=' + movie_query)\n",
    "\n",
    "movies = response.json()\n",
    "print(movies['results'][0])\n",
    "\n",
    "\n",
    "movie_id = movies['results'][0]['id']"
   ]
  },
  {
   "cell_type": "code",
   "execution_count": 106,
   "metadata": {
    "collapsed": false,
    "deletable": true,
    "editable": true
   },
   "outputs": [
    {
     "name": "stdout",
     "output_type": "stream",
     "text": [
      "{'adult': False, 'backdrop_path': '/b6ZJZHUdMEFECvGiDpJjlfUWela.jpg', 'belongs_to_collection': None, 'budget': 200000000, 'genres': [{'id': 28, 'name': 'Action'}, {'id': 12, 'name': 'Adventure'}, {'id': 14, 'name': 'Fantasy'}, {'id': 878, 'name': 'Science Fiction'}], 'homepage': 'https://marvel.com/movies/movie/224/black_panther', 'id': 284054, 'imdb_id': 'tt1825683', 'original_language': 'en', 'original_title': 'Black Panther', 'overview': 'King T\\'Challa returns home from America to the reclusive, technologically advanced African nation of Wakanda to serve as his country\\'s new leader. However, T\\'Challa soon finds that he is challenged for the throne by factions within his own country as well as without.  Using powers reserved to Wakandan kings, T\\'Challa assumes the Black Panther mantel to join with girlfriend Nakia, the queen-mother, his princess-kid sister,  members of the Dora Milaje (the Wakandan \"special forces\"), and an American secret agent, to prevent Wakanda from being dragged into a world war.', 'popularity': 186.354269, 'poster_path': '/uxzzxijgPIY7slzFvMotPv8wjKA.jpg', 'production_companies': [{'id': 420, 'logo_path': '/hUzeosd33nzE5MCNsZxCGEKTXaQ.png', 'name': 'Marvel Studios', 'origin_country': 'US'}, {'id': 2, 'logo_path': '/4MbjW4f9bu6LvlDmyIvfyuT3boj.png', 'name': 'Walt Disney Pictures', 'origin_country': 'US'}], 'production_countries': [{'iso_3166_1': 'US', 'name': 'United States of America'}], 'release_date': '2018-02-13', 'revenue': 1280926086, 'runtime': 134, 'spoken_languages': [{'iso_639_1': 'en', 'name': 'English'}, {'iso_639_1': 'ko', 'name': '한국어/조선말'}, {'iso_639_1': 'sw', 'name': 'Kiswahili'}, {'iso_639_1': 'xh', 'name': ''}], 'status': 'Released', 'tagline': 'Long live the king', 'title': 'Black Panther', 'video': False, 'vote_average': 7.3, 'vote_count': 3866}\n"
     ]
    }
   ],
   "source": [
    "response = requests.get('https://api.themoviedb.org/3/movie/'+ str(movie_id) + '?api_key=' +  imdb_key  + '&language=en-US')\n",
    "\n",
    "movie = response.json()\n",
    "\n",
    "print(movie)\n"
   ]
  },
  {
   "cell_type": "code",
   "execution_count": 123,
   "metadata": {
    "collapsed": false,
    "deletable": true,
    "editable": true
   },
   "outputs": [],
   "source": [
    "revenue = movie['revenue']\n",
    "\n"
   ]
  },
  {
   "cell_type": "code",
   "execution_count": 130,
   "metadata": {
    "collapsed": false,
    "deletable": true,
    "editable": true
   },
   "outputs": [],
   "source": [
    "import humanize"
   ]
  },
  {
   "cell_type": "markdown",
   "metadata": {
    "deletable": true,
    "editable": true
   },
   "source": [
    "millify(revenue)"
   ]
  },
  {
   "cell_type": "code",
   "execution_count": 131,
   "metadata": {
    "collapsed": false,
    "deletable": true,
    "editable": true
   },
   "outputs": [],
   "source": [
    "revenue_formatted = \"$\" + humanize.intword(revenue)"
   ]
  },
  {
   "cell_type": "code",
   "execution_count": 132,
   "metadata": {
    "collapsed": false,
    "deletable": true,
    "editable": true
   },
   "outputs": [
    {
     "data": {
      "text/plain": [
       "'$1.3 billion'"
      ]
     },
     "execution_count": 132,
     "metadata": {},
     "output_type": "execute_result"
    }
   ],
   "source": [
    "revenue_formatted"
   ]
  },
  {
   "cell_type": "code",
   "execution_count": 133,
   "metadata": {
    "collapsed": false,
    "deletable": true,
    "editable": true
   },
   "outputs": [
    {
     "name": "stdout",
     "output_type": "stream",
     "text": [
      "982652891428282369\n"
     ]
    }
   ],
   "source": [
    "print(id)"
   ]
  },
  {
   "cell_type": "code",
   "execution_count": 115,
   "metadata": {
    "collapsed": false,
    "deletable": true,
    "editable": true
   },
   "outputs": [
    {
     "data": {
      "text/plain": [
       "'Black Panther has earned $1.3 billion in revenue.'"
      ]
     },
     "execution_count": 115,
     "metadata": {},
     "output_type": "execute_result"
    }
   ],
   "source": [
    "movie['original_title'] + \" has earned \" + revenue_formatted + \" in revenue.\""
   ]
  },
  {
   "cell_type": "code",
   "execution_count": 116,
   "metadata": {
    "collapsed": false
   },
   "outputs": [
    {
     "data": {
      "text/plain": [
       "'/uxzzxijgPIY7slzFvMotPv8wjKA.jpg'"
      ]
     },
     "execution_count": 116,
     "metadata": {},
     "output_type": "execute_result"
    }
   ],
   "source": [
    "movie['poster_path']"
   ]
  },
  {
   "cell_type": "code",
   "execution_count": 117,
   "metadata": {
    "collapsed": false,
    "deletable": true,
    "editable": true
   },
   "outputs": [
    {
     "data": {
      "text/plain": [
       "('Black Panther', <http.client.HTTPMessage at 0x10a4f3940>)"
      ]
     },
     "execution_count": 117,
     "metadata": {},
     "output_type": "execute_result"
    }
   ],
   "source": [
    "\n",
    "import urllib\n",
    "\n",
    "url = \"https://image.tmdb.org/t/p/w500/\" + movie['poster_path']\n",
    "urllib.request.urlretrieve(url, str(movie['original_title']))"
   ]
  },
  {
   "cell_type": "code",
   "execution_count": 118,
   "metadata": {
    "collapsed": false,
    "deletable": true,
    "editable": true
   },
   "outputs": [],
   "source": [
    "photo = open(movie['original_title'],'rb')\n",
    "response = twitter.upload_media(media=photo)\n"
   ]
  },
  {
   "cell_type": "code",
   "execution_count": 119,
   "metadata": {
    "collapsed": false,
    "deletable": true,
    "editable": true
   },
   "outputs": [
    {
     "data": {
      "text/plain": [
       "{'contributors': None,\n",
       " 'coordinates': None,\n",
       " 'created_at': 'Sat Apr 07 16:15:00 +0000 2018',\n",
       " 'entities': {'hashtags': [],\n",
       "  'media': [{'display_url': 'pic.twitter.com/4cUsDok6Gb',\n",
       "    'expanded_url': 'https://twitter.com/TheMovieFacts_/status/982652975083610113/photo/1',\n",
       "    'id': 982652973259149312,\n",
       "    'id_str': '982652973259149312',\n",
       "    'indices': [67, 90],\n",
       "    'media_url': 'http://pbs.twimg.com/media/DaMVrECX0AA6gPv.jpg',\n",
       "    'media_url_https': 'https://pbs.twimg.com/media/DaMVrECX0AA6gPv.jpg',\n",
       "    'sizes': {'large': {'h': 750, 'resize': 'fit', 'w': 500},\n",
       "     'medium': {'h': 750, 'resize': 'fit', 'w': 500},\n",
       "     'small': {'h': 680, 'resize': 'fit', 'w': 453},\n",
       "     'thumb': {'h': 150, 'resize': 'crop', 'w': 150}},\n",
       "    'type': 'photo',\n",
       "    'url': 'https://t.co/4cUsDok6Gb'}],\n",
       "  'symbols': [],\n",
       "  'urls': [],\n",
       "  'user_mentions': [{'id': 365119419,\n",
       "    'id_str': '365119419',\n",
       "    'indices': [0, 16],\n",
       "    'name': 'Monica 👩🏾\\u200d💻',\n",
       "    'screen_name': 'waterproofheart'}]},\n",
       " 'extended_entities': {'media': [{'display_url': 'pic.twitter.com/4cUsDok6Gb',\n",
       "    'expanded_url': 'https://twitter.com/TheMovieFacts_/status/982652975083610113/photo/1',\n",
       "    'id': 982652973259149312,\n",
       "    'id_str': '982652973259149312',\n",
       "    'indices': [67, 90],\n",
       "    'media_url': 'http://pbs.twimg.com/media/DaMVrECX0AA6gPv.jpg',\n",
       "    'media_url_https': 'https://pbs.twimg.com/media/DaMVrECX0AA6gPv.jpg',\n",
       "    'sizes': {'large': {'h': 750, 'resize': 'fit', 'w': 500},\n",
       "     'medium': {'h': 750, 'resize': 'fit', 'w': 500},\n",
       "     'small': {'h': 680, 'resize': 'fit', 'w': 453},\n",
       "     'thumb': {'h': 150, 'resize': 'crop', 'w': 150}},\n",
       "    'type': 'photo',\n",
       "    'url': 'https://t.co/4cUsDok6Gb'}]},\n",
       " 'favorite_count': 0,\n",
       " 'favorited': False,\n",
       " 'geo': None,\n",
       " 'id': 982652975083610113,\n",
       " 'id_str': '982652975083610113',\n",
       " 'in_reply_to_screen_name': 'waterproofheart',\n",
       " 'in_reply_to_status_id': None,\n",
       " 'in_reply_to_status_id_str': None,\n",
       " 'in_reply_to_user_id': 365119419,\n",
       " 'in_reply_to_user_id_str': '365119419',\n",
       " 'is_quote_status': False,\n",
       " 'lang': 'en',\n",
       " 'place': None,\n",
       " 'possibly_sensitive': False,\n",
       " 'retweet_count': 0,\n",
       " 'retweeted': False,\n",
       " 'source': '<a href=\"http://www.aboutmonica.com\" rel=\"nofollow\">imdb-api</a>',\n",
       " 'text': '@waterproofheart Black Panther has earned $1.3 billion in revenue. https://t.co/4cUsDok6Gb',\n",
       " 'truncated': False,\n",
       " 'user': {'contributors_enabled': False,\n",
       "  'created_at': 'Thu Mar 29 00:17:32 +0000 2018',\n",
       "  'default_profile': True,\n",
       "  'default_profile_image': True,\n",
       "  'description': '',\n",
       "  'entities': {'description': {'urls': []}},\n",
       "  'favourites_count': 0,\n",
       "  'follow_request_sent': False,\n",
       "  'followers_count': 0,\n",
       "  'following': False,\n",
       "  'friends_count': 0,\n",
       "  'geo_enabled': False,\n",
       "  'has_extended_profile': False,\n",
       "  'id': 979150529837371394,\n",
       "  'id_str': '979150529837371394',\n",
       "  'is_translation_enabled': False,\n",
       "  'is_translator': False,\n",
       "  'lang': 'en',\n",
       "  'listed_count': 0,\n",
       "  'location': '',\n",
       "  'name': 'Movie Facts',\n",
       "  'notifications': False,\n",
       "  'profile_background_color': 'F5F8FA',\n",
       "  'profile_background_image_url': None,\n",
       "  'profile_background_image_url_https': None,\n",
       "  'profile_background_tile': False,\n",
       "  'profile_image_url': 'http://abs.twimg.com/sticky/default_profile_images/default_profile_normal.png',\n",
       "  'profile_image_url_https': 'https://abs.twimg.com/sticky/default_profile_images/default_profile_normal.png',\n",
       "  'profile_link_color': '1DA1F2',\n",
       "  'profile_sidebar_border_color': 'C0DEED',\n",
       "  'profile_sidebar_fill_color': 'DDEEF6',\n",
       "  'profile_text_color': '333333',\n",
       "  'profile_use_background_image': True,\n",
       "  'protected': False,\n",
       "  'screen_name': 'TheMovieFacts_',\n",
       "  'statuses_count': 8,\n",
       "  'time_zone': None,\n",
       "  'translator_type': 'none',\n",
       "  'url': None,\n",
       "  'utc_offset': None,\n",
       "  'verified': False}}"
      ]
     },
     "execution_count": 119,
     "metadata": {},
     "output_type": "execute_result"
    }
   ],
   "source": [
    "twitter.update_status(status='@' + screenname + \" \" + movie['original_title'] + \" has earned \" + revenue_formatted + \" in revenue.\", in_reply_to_status_id_str=id, media_ids=[response['media_id']])\n",
    "\n",
    "\n"
   ]
  },
  {
   "cell_type": "code",
   "execution_count": null,
   "metadata": {
    "collapsed": true,
    "deletable": true,
    "editable": true
   },
   "outputs": [],
   "source": []
  },
  {
   "cell_type": "code",
   "execution_count": null,
   "metadata": {
    "collapsed": true,
    "deletable": true,
    "editable": true
   },
   "outputs": [],
   "source": []
  },
  {
   "cell_type": "code",
   "execution_count": null,
   "metadata": {
    "collapsed": true,
    "deletable": true,
    "editable": true
   },
   "outputs": [],
   "source": []
  },
  {
   "cell_type": "code",
   "execution_count": null,
   "metadata": {
    "collapsed": true,
    "deletable": true,
    "editable": true
   },
   "outputs": [],
   "source": []
  },
  {
   "cell_type": "code",
   "execution_count": null,
   "metadata": {
    "collapsed": true,
    "deletable": true,
    "editable": true
   },
   "outputs": [],
   "source": []
  }
 ],
 "metadata": {
  "kernelspec": {
   "display_name": "Python 3",
   "language": "python",
   "name": "python3"
  },
  "language_info": {
   "codemirror_mode": {
    "name": "ipython",
    "version": 3
   },
   "file_extension": ".py",
   "mimetype": "text/x-python",
   "name": "python",
   "nbconvert_exporter": "python",
   "pygments_lexer": "ipython3",
   "version": "3.6.0"
  }
 },
 "nbformat": 4,
 "nbformat_minor": 2
}
