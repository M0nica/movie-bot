{
 "cells": [
  {
   "cell_type": "code",
   "execution_count": 136,
   "metadata": {
    "collapsed": false,
    "deletable": true,
    "editable": true
   },
   "outputs": [],
   "source": [
    "import config\n",
    "import time\n",
    "from twython import Twython, TwythonError\n",
    "import requests"
   ]
  },
  {
   "cell_type": "code",
   "execution_count": 137,
   "metadata": {
    "collapsed": false,
    "deletable": true,
    "editable": true
   },
   "outputs": [],
   "source": [
    "imdb_key = config.imdb_key\n",
    "\n",
    "# create a Twython object by passing the necessary secret passwords\n",
    "twitter = Twython(config.api_key, config.api_secret, config.access_token, config.token_secret)\n"
   ]
  },
  {
   "cell_type": "code",
   "execution_count": 139,
   "metadata": {
    "collapsed": true,
    "deletable": true,
    "editable": true
   },
   "outputs": [],
   "source": [
    "response = twitter.get_mentions_timeline(count =2, since_id=14927799)"
   ]
  },
  {
   "cell_type": "code",
   "execution_count": 140,
   "metadata": {
    "collapsed": false,
    "deletable": true,
    "editable": true
   },
   "outputs": [
    {
     "name": "stdout",
     "output_type": "stream",
     "text": [
      "[{'created_at': 'Thu Mar 29 01:26:44 +0000 2018', 'id': 979167943505448961, 'id_str': '979167943505448961', 'text': '@themoviefacts_ revenue home alone', 'truncated': False, 'entities': {'hashtags': [], 'symbols': [], 'user_mentions': [{'screen_name': 'TheMovieFacts_', 'name': 'Movie Facts', 'id': 979150529837371394, 'id_str': '979150529837371394', 'indices': [0, 15]}], 'urls': []}, 'source': '<a href=\"http://twitter.com\" rel=\"nofollow\">Twitter Web Client</a>', 'in_reply_to_status_id': None, 'in_reply_to_status_id_str': None, 'in_reply_to_user_id': 979150529837371394, 'in_reply_to_user_id_str': '979150529837371394', 'in_reply_to_screen_name': 'TheMovieFacts_', 'user': {'id': 365119419, 'id_str': '365119419', 'name': 'Monica 👩🏾\\u200d💻', 'screen_name': 'waterproofheart', 'location': 'New York, New York', 'description': 'Making tech more enjoyable & accessible. Always up to chat data vis, web dev or #BlackGirlMagic.👩🏾\\u200d💻https://t.co/w2hCyWdoge | ✍🏾 https://t.co/iwBsmxB8FO', 'url': 'https://t.co/KxvS5PWq7r', 'entities': {'url': {'urls': [{'url': 'https://t.co/KxvS5PWq7r', 'expanded_url': 'http://aboutmonica.com', 'display_url': 'aboutmonica.com', 'indices': [0, 23]}]}, 'description': {'urls': [{'url': 'https://t.co/w2hCyWdoge', 'expanded_url': 'http://github.com/M0nica', 'display_url': 'github.com/M0nica', 'indices': [100, 123]}, {'url': 'https://t.co/iwBsmxB8FO', 'expanded_url': 'http://datalogues.com', 'display_url': 'datalogues.com', 'indices': [129, 152]}]}}, 'protected': False, 'followers_count': 940, 'friends_count': 750, 'listed_count': 70, 'created_at': 'Tue Aug 30 22:03:40 +0000 2011', 'favourites_count': 19846, 'utc_offset': -18000, 'time_zone': 'Quito', 'geo_enabled': True, 'verified': False, 'statuses_count': 11052, 'lang': 'en', 'contributors_enabled': False, 'is_translator': False, 'is_translation_enabled': False, 'profile_background_color': 'C0DEED', 'profile_background_image_url': 'http://pbs.twimg.com/profile_background_images/441609532/er.png', 'profile_background_image_url_https': 'https://pbs.twimg.com/profile_background_images/441609532/er.png', 'profile_background_tile': True, 'profile_image_url': 'http://pbs.twimg.com/profile_images/913888476092932096/O5tHX6n0_normal.jpg', 'profile_image_url_https': 'https://pbs.twimg.com/profile_images/913888476092932096/O5tHX6n0_normal.jpg', 'profile_banner_url': 'https://pbs.twimg.com/profile_banners/365119419/1472932872', 'profile_link_color': '8A6976', 'profile_sidebar_border_color': 'C0DEED', 'profile_sidebar_fill_color': 'DDEEF6', 'profile_text_color': '333333', 'profile_use_background_image': True, 'has_extended_profile': True, 'default_profile': False, 'default_profile_image': False, 'following': False, 'follow_request_sent': False, 'notifications': False, 'translator_type': 'none'}, 'geo': None, 'coordinates': None, 'place': None, 'contributors': None, 'is_quote_status': False, 'retweet_count': 0, 'favorite_count': 0, 'favorited': False, 'retweeted': False, 'lang': 'en'}, {'created_at': 'Thu Mar 29 01:21:22 +0000 2018', 'id': 979166591886782464, 'id_str': '979166591886782464', 'text': '@TheMovieFacts_ revenue snow white', 'truncated': False, 'entities': {'hashtags': [], 'symbols': [], 'user_mentions': [{'screen_name': 'TheMovieFacts_', 'name': 'Movie Facts', 'id': 979150529837371394, 'id_str': '979150529837371394', 'indices': [0, 15]}], 'urls': []}, 'source': '<a href=\"http://twitter.com\" rel=\"nofollow\">Twitter Web Client</a>', 'in_reply_to_status_id': None, 'in_reply_to_status_id_str': None, 'in_reply_to_user_id': 979150529837371394, 'in_reply_to_user_id_str': '979150529837371394', 'in_reply_to_screen_name': 'TheMovieFacts_', 'user': {'id': 365119419, 'id_str': '365119419', 'name': 'Monica 👩🏾\\u200d💻', 'screen_name': 'waterproofheart', 'location': 'New York, New York', 'description': 'Making tech more enjoyable & accessible. Always up to chat data vis, web dev or #BlackGirlMagic.👩🏾\\u200d💻https://t.co/w2hCyWdoge | ✍🏾 https://t.co/iwBsmxB8FO', 'url': 'https://t.co/KxvS5PWq7r', 'entities': {'url': {'urls': [{'url': 'https://t.co/KxvS5PWq7r', 'expanded_url': 'http://aboutmonica.com', 'display_url': 'aboutmonica.com', 'indices': [0, 23]}]}, 'description': {'urls': [{'url': 'https://t.co/w2hCyWdoge', 'expanded_url': 'http://github.com/M0nica', 'display_url': 'github.com/M0nica', 'indices': [100, 123]}, {'url': 'https://t.co/iwBsmxB8FO', 'expanded_url': 'http://datalogues.com', 'display_url': 'datalogues.com', 'indices': [129, 152]}]}}, 'protected': False, 'followers_count': 940, 'friends_count': 750, 'listed_count': 70, 'created_at': 'Tue Aug 30 22:03:40 +0000 2011', 'favourites_count': 19846, 'utc_offset': -18000, 'time_zone': 'Quito', 'geo_enabled': True, 'verified': False, 'statuses_count': 11052, 'lang': 'en', 'contributors_enabled': False, 'is_translator': False, 'is_translation_enabled': False, 'profile_background_color': 'C0DEED', 'profile_background_image_url': 'http://pbs.twimg.com/profile_background_images/441609532/er.png', 'profile_background_image_url_https': 'https://pbs.twimg.com/profile_background_images/441609532/er.png', 'profile_background_tile': True, 'profile_image_url': 'http://pbs.twimg.com/profile_images/913888476092932096/O5tHX6n0_normal.jpg', 'profile_image_url_https': 'https://pbs.twimg.com/profile_images/913888476092932096/O5tHX6n0_normal.jpg', 'profile_banner_url': 'https://pbs.twimg.com/profile_banners/365119419/1472932872', 'profile_link_color': '8A6976', 'profile_sidebar_border_color': 'C0DEED', 'profile_sidebar_fill_color': 'DDEEF6', 'profile_text_color': '333333', 'profile_use_background_image': True, 'has_extended_profile': True, 'default_profile': False, 'default_profile_image': False, 'following': False, 'follow_request_sent': False, 'notifications': False, 'translator_type': 'none'}, 'geo': None, 'coordinates': None, 'place': None, 'contributors': None, 'is_quote_status': False, 'retweet_count': 0, 'favorite_count': 0, 'favorited': False, 'retweeted': False, 'lang': 'en'}]\n"
     ]
    }
   ],
   "source": [
    "print(response)"
   ]
  },
  {
   "cell_type": "code",
   "execution_count": 141,
   "metadata": {
    "collapsed": false,
    "deletable": true,
    "editable": true
   },
   "outputs": [
    {
     "name": "stdout",
     "output_type": "stream",
     "text": [
      "home alone\n"
     ]
    }
   ],
   "source": [
    "line = response[0]['text']\n",
    "id = response[0]['id_str']\n",
    "\n",
    "#line = \"@TheMovieFacts_ revenue black panther\"\n",
    "movie_query = line[24:]\n",
    "print(movie_query)"
   ]
  },
  {
   "cell_type": "code",
   "execution_count": 142,
   "metadata": {
    "collapsed": false,
    "deletable": true,
    "editable": true
   },
   "outputs": [
    {
     "name": "stdout",
     "output_type": "stream",
     "text": [
      "{'vote_count': 863, 'id': 9714, 'video': False, 'vote_average': 5, 'title': 'Home Alone 3', 'popularity': 10.043728, 'poster_path': '/z6ugEdjGuY4qcX1ymdV2CTVSvKN.jpg', 'original_language': 'en', 'original_title': 'Home Alone 3', 'genre_ids': [35, 10751], 'backdrop_path': '/gt8Pe0H2kdm99yuHYDs8goKbTkn.jpg', 'adult': False, 'overview': '9-year-old Alex Pruitt is home alone with the chicken pox. Turns out, due to a mix-up among nefarious spies, Alex was given a toy car concealing a top-secret microchip. Now Alex must fend off the spies as they try break into his house to get it back.', 'release_date': '1997-12-12'}\n"
     ]
    }
   ],
   "source": [
    "# query = \"Black Panther\"\n",
    "response = requests.get('https://api.themoviedb.org/3/search/movie?api_key=' +  imdb_key  + '&language=en-US&page=1&include_adult=false&query=' + movie_query)\n",
    "\n",
    "movies = response.json()\n",
    "print(movies['results'][0])\n",
    "\n",
    "\n",
    "movie_id = movies['results'][0]['id']"
   ]
  },
  {
   "cell_type": "code",
   "execution_count": 143,
   "metadata": {
    "collapsed": false,
    "deletable": true,
    "editable": true
   },
   "outputs": [
    {
     "name": "stdout",
     "output_type": "stream",
     "text": [
      "{'adult': False, 'backdrop_path': '/gt8Pe0H2kdm99yuHYDs8goKbTkn.jpg', 'belongs_to_collection': {'id': 9888, 'name': 'Home Alone Collection', 'poster_path': '/zYPsleQJo1n1rBPlecJBRb3iwSO.jpg', 'backdrop_path': '/cYS2aWxECESUN2OS3JiLrKMmOko.jpg'}, 'budget': 32000000, 'genres': [{'id': 35, 'name': 'Comedy'}, {'id': 10751, 'name': 'Family'}], 'homepage': 'http://www.ha3.com/', 'id': 9714, 'imdb_id': 'tt0119303', 'original_language': 'en', 'original_title': 'Home Alone 3', 'overview': '9-year-old Alex Pruitt is home alone with the chicken pox. Turns out, due to a mix-up among nefarious spies, Alex was given a toy car concealing a top-secret microchip. Now Alex must fend off the spies as they try break into his house to get it back.', 'popularity': 9.043728, 'poster_path': '/z6ugEdjGuY4qcX1ymdV2CTVSvKN.jpg', 'production_companies': [{'id': 477, 'logo_path': None, 'name': 'Hughes Entertainment', 'origin_country': ''}, {'id': 25, 'logo_path': '/qZCc1lty5FzX30aOCVRBLzaVmcp.png', 'name': '20th Century Fox', 'origin_country': 'US'}], 'production_countries': [{'iso_3166_1': 'US', 'name': 'United States of America'}], 'release_date': '1997-12-12', 'revenue': 79082515, 'runtime': 102, 'spoken_languages': [{'iso_639_1': 'pl', 'name': 'Polski'}, {'iso_639_1': 'en', 'name': 'English'}], 'status': 'Released', 'tagline': 'Ready for more. Much more.', 'title': 'Home Alone 3', 'video': False, 'vote_average': 5.0, 'vote_count': 869}\n"
     ]
    }
   ],
   "source": [
    "response = requests.get('https://api.themoviedb.org/3/movie/'+ str(movie_id) + '?api_key=' +  imdb_key  + '&language=en-US')\n",
    "\n",
    "movie = response.json()\n",
    "\n",
    "print(movie)\n"
   ]
  },
  {
   "cell_type": "code",
   "execution_count": 144,
   "metadata": {
    "collapsed": true,
    "deletable": true,
    "editable": true
   },
   "outputs": [],
   "source": [
    "# import math\n",
    "\n",
    "# millnames = ['',' Thousand',' Million',' Billion',' Trillion']\n",
    "\n",
    "# def millify(n):\n",
    "#     n = float(n)\n",
    "#     millidx = max(0,min(len(millnames)-1,\n",
    "#                         int(math.floor(0 if n == 0 else math.log10(abs(n))/3))))\n",
    "\n",
    "#     return '{:.0f}{}'.format(n / 10**(3 * millidx), millnames[millidx])"
   ]
  },
  {
   "cell_type": "code",
   "execution_count": 145,
   "metadata": {
    "collapsed": false,
    "deletable": true,
    "editable": true
   },
   "outputs": [],
   "source": [
    "revenue = movie['revenue']\n",
    "\n"
   ]
  },
  {
   "cell_type": "code",
   "execution_count": 146,
   "metadata": {
    "collapsed": false,
    "deletable": true,
    "editable": true
   },
   "outputs": [
    {
     "ename": "TypeError",
     "evalue": "'int' object is not iterable",
     "output_type": "error",
     "traceback": [
      "\u001b[0;31m---------------------------------------------------------------------------\u001b[0m",
      "\u001b[0;31mTypeError\u001b[0m                                 Traceback (most recent call last)",
      "\u001b[0;32m<ipython-input-146-2283d025842c>\u001b[0m in \u001b[0;36m<module>\u001b[0;34m()\u001b[0m\n\u001b[0;32m----> 1\u001b[0;31m \u001b[0mmillify\u001b[0m\u001b[0;34m(\u001b[0m\u001b[0mrevenue\u001b[0m\u001b[0;34m)\u001b[0m\u001b[0;34m\u001b[0m\u001b[0m\n\u001b[0m",
      "\u001b[0;32m<ipython-input-48-5cba114fa140>\u001b[0m in \u001b[0;36mmillify\u001b[0;34m(n)\u001b[0m\n\u001b[1;32m      5\u001b[0m \u001b[0;32mdef\u001b[0m \u001b[0mmillify\u001b[0m\u001b[0;34m(\u001b[0m\u001b[0mn\u001b[0m\u001b[0;34m)\u001b[0m\u001b[0;34m:\u001b[0m\u001b[0;34m\u001b[0m\u001b[0m\n\u001b[1;32m      6\u001b[0m     \u001b[0mn\u001b[0m \u001b[0;34m=\u001b[0m \u001b[0mfloat\u001b[0m\u001b[0;34m(\u001b[0m\u001b[0mn\u001b[0m\u001b[0;34m)\u001b[0m\u001b[0;34m\u001b[0m\u001b[0m\n\u001b[0;32m----> 7\u001b[0;31m     \u001b[0mmillidx\u001b[0m \u001b[0;34m=\u001b[0m \u001b[0mmax\u001b[0m\u001b[0;34m(\u001b[0m\u001b[0;36m0\u001b[0m\u001b[0;34m,\u001b[0m\u001b[0mmin\u001b[0m\u001b[0;34m(\u001b[0m\u001b[0mlen\u001b[0m\u001b[0;34m(\u001b[0m\u001b[0mmillnames\u001b[0m\u001b[0;34m)\u001b[0m\u001b[0;34m-\u001b[0m\u001b[0;36m1\u001b[0m\u001b[0;34m,\u001b[0m\u001b[0;34m)\u001b[0m\u001b[0;34m)\u001b[0m\u001b[0;34m\u001b[0m\u001b[0m\n\u001b[0m\u001b[1;32m      8\u001b[0m \u001b[0;34m\u001b[0m\u001b[0m\n\u001b[1;32m      9\u001b[0m     \u001b[0;32mreturn\u001b[0m \u001b[0;34m'{:.0f}{}'\u001b[0m\u001b[0;34m.\u001b[0m\u001b[0mformat\u001b[0m\u001b[0;34m(\u001b[0m\u001b[0mn\u001b[0m \u001b[0;34m/\u001b[0m \u001b[0;36m10\u001b[0m\u001b[0;34m**\u001b[0m\u001b[0;34m(\u001b[0m\u001b[0;36m3\u001b[0m \u001b[0;34m*\u001b[0m \u001b[0mmillidx\u001b[0m\u001b[0;34m)\u001b[0m\u001b[0;34m,\u001b[0m \u001b[0mmillnames\u001b[0m\u001b[0;34m[\u001b[0m\u001b[0mmillidx\u001b[0m\u001b[0;34m]\u001b[0m\u001b[0;34m)\u001b[0m\u001b[0;34m\u001b[0m\u001b[0m\n",
      "\u001b[0;31mTypeError\u001b[0m: 'int' object is not iterable"
     ]
    }
   ],
   "source": [
    "millify(revenue)"
   ]
  },
  {
   "cell_type": "code",
   "execution_count": 147,
   "metadata": {
    "collapsed": false,
    "deletable": true,
    "editable": true
   },
   "outputs": [],
   "source": [
    "def millions_formatter(revenue, m=1000000):\n",
    "    # If the number evenly divides 1000000, you can convert its division of 1000000 to an integer\n",
    "    if revenue % m == 0:\n",
    "        revenue = int(revenue/m)\n",
    "    else:\n",
    "        # Otherwise use a floating representation\n",
    "        revenue = float(revenue/m)\n",
    "    return '{}m'.format(revenue)\n",
    "\n",
    "    print('{} --> {}'.format(revenue, millions_formatter(revenue)))"
   ]
  },
  {
   "cell_type": "code",
   "execution_count": 148,
   "metadata": {
    "collapsed": false,
    "deletable": true,
    "editable": true
   },
   "outputs": [
    {
     "data": {
      "text/plain": [
       "'79.082515m'"
      ]
     },
     "execution_count": 148,
     "metadata": {},
     "output_type": "execute_result"
    }
   ],
   "source": [
    "millions_formatter(revenue)"
   ]
  },
  {
   "cell_type": "code",
   "execution_count": 149,
   "metadata": {
    "collapsed": false,
    "deletable": true,
    "editable": true
   },
   "outputs": [],
   "source": [
    "import humanize"
   ]
  },
  {
   "cell_type": "markdown",
   "metadata": {
    "deletable": true,
    "editable": true
   },
   "source": [
    "millify(revenue)"
   ]
  },
  {
   "cell_type": "code",
   "execution_count": 150,
   "metadata": {
    "collapsed": false,
    "deletable": true,
    "editable": true
   },
   "outputs": [],
   "source": [
    "revenue_formatted = \"$\" + humanize.intword(revenue)"
   ]
  },
  {
   "cell_type": "code",
   "execution_count": 151,
   "metadata": {
    "collapsed": false,
    "deletable": true,
    "editable": true
   },
   "outputs": [
    {
     "data": {
      "text/plain": [
       "'$79.1 million'"
      ]
     },
     "execution_count": 151,
     "metadata": {},
     "output_type": "execute_result"
    }
   ],
   "source": [
    "revenue_formatted"
   ]
  },
  {
   "cell_type": "code",
   "execution_count": 154,
   "metadata": {
    "collapsed": false,
    "deletable": true,
    "editable": true
   },
   "outputs": [
    {
     "name": "stdout",
     "output_type": "stream",
     "text": [
      "979167943505448961\n"
     ]
    }
   ],
   "source": [
    "print(id)"
   ]
  },
  {
   "cell_type": "code",
   "execution_count": 152,
   "metadata": {
    "collapsed": false,
    "deletable": true,
    "editable": true
   },
   "outputs": [
    {
     "data": {
      "text/plain": [
       "'Home Alone 3 has earned $79.1 million in revenue.'"
      ]
     },
     "execution_count": 152,
     "metadata": {},
     "output_type": "execute_result"
    }
   ],
   "source": [
    "movie['original_title'] + \" has earned \" + revenue_formatted + \" in revenue.\""
   ]
  },
  {
   "cell_type": "code",
   "execution_count": 158,
   "metadata": {
    "collapsed": false,
    "deletable": true,
    "editable": true
   },
   "outputs": [
    {
     "data": {
      "text/plain": [
       "{'contributors': None,\n",
       " 'coordinates': None,\n",
       " 'created_at': 'Thu Mar 29 01:30:02 +0000 2018',\n",
       " 'entities': {'hashtags': [], 'symbols': [], 'urls': [], 'user_mentions': []},\n",
       " 'favorite_count': 0,\n",
       " 'favorited': False,\n",
       " 'geo': None,\n",
       " 'id': 979168773004505088,\n",
       " 'id_str': '979168773004505088',\n",
       " 'in_reply_to_screen_name': None,\n",
       " 'in_reply_to_status_id': None,\n",
       " 'in_reply_to_status_id_str': None,\n",
       " 'in_reply_to_user_id': None,\n",
       " 'in_reply_to_user_id_str': None,\n",
       " 'is_quote_status': False,\n",
       " 'lang': 'en',\n",
       " 'place': None,\n",
       " 'retweet_count': 0,\n",
       " 'retweeted': False,\n",
       " 'source': '<a href=\"http://www.aboutmonica.com\" rel=\"nofollow\">imdb-api</a>',\n",
       " 'text': 'Home Alone 3 has fearnedd $79.1 million in revenue.',\n",
       " 'truncated': False,\n",
       " 'user': {'contributors_enabled': False,\n",
       "  'created_at': 'Thu Mar 29 00:17:32 +0000 2018',\n",
       "  'default_profile': True,\n",
       "  'default_profile_image': True,\n",
       "  'description': '',\n",
       "  'entities': {'description': {'urls': []}},\n",
       "  'favourites_count': 0,\n",
       "  'follow_request_sent': False,\n",
       "  'followers_count': 0,\n",
       "  'following': False,\n",
       "  'friends_count': 0,\n",
       "  'geo_enabled': False,\n",
       "  'has_extended_profile': False,\n",
       "  'id': 979150529837371394,\n",
       "  'id_str': '979150529837371394',\n",
       "  'is_translation_enabled': False,\n",
       "  'is_translator': False,\n",
       "  'lang': 'en',\n",
       "  'listed_count': 0,\n",
       "  'location': '',\n",
       "  'name': 'Movie Facts',\n",
       "  'notifications': False,\n",
       "  'profile_background_color': 'F5F8FA',\n",
       "  'profile_background_image_url': None,\n",
       "  'profile_background_image_url_https': None,\n",
       "  'profile_background_tile': False,\n",
       "  'profile_image_url': 'http://abs.twimg.com/sticky/default_profile_images/default_profile_normal.png',\n",
       "  'profile_image_url_https': 'https://abs.twimg.com/sticky/default_profile_images/default_profile_normal.png',\n",
       "  'profile_link_color': '1DA1F2',\n",
       "  'profile_sidebar_border_color': 'C0DEED',\n",
       "  'profile_sidebar_fill_color': 'DDEEF6',\n",
       "  'profile_text_color': '333333',\n",
       "  'profile_use_background_image': True,\n",
       "  'protected': False,\n",
       "  'screen_name': 'TheMovieFacts_',\n",
       "  'statuses_count': 4,\n",
       "  'time_zone': None,\n",
       "  'translator_type': 'none',\n",
       "  'url': None,\n",
       "  'utc_offset': None,\n",
       "  'verified': False}}"
      ]
     },
     "execution_count": 158,
     "metadata": {},
     "output_type": "execute_result"
    }
   ],
   "source": [
    "twitter.update_status(status=movie['original_title'] + \" has earned \" + revenue_formatted + \" in revenue.\", in_reply_to_status_id_str=id)\n",
    "\n",
    "\n"
   ]
  },
  {
   "cell_type": "code",
   "execution_count": null,
   "metadata": {
    "collapsed": true,
    "deletable": true,
    "editable": true
   },
   "outputs": [],
   "source": []
  },
  {
   "cell_type": "code",
   "execution_count": null,
   "metadata": {
    "collapsed": true,
    "deletable": true,
    "editable": true
   },
   "outputs": [],
   "source": []
  },
  {
   "cell_type": "code",
   "execution_count": null,
   "metadata": {
    "collapsed": true,
    "deletable": true,
    "editable": true
   },
   "outputs": [],
   "source": []
  },
  {
   "cell_type": "code",
   "execution_count": null,
   "metadata": {
    "collapsed": true,
    "deletable": true,
    "editable": true
   },
   "outputs": [],
   "source": []
  }
 ],
 "metadata": {
  "kernelspec": {
   "display_name": "Python 3",
   "language": "python",
   "name": "python3"
  },
  "language_info": {
   "codemirror_mode": {
    "name": "ipython",
    "version": 3
   },
   "file_extension": ".py",
   "mimetype": "text/x-python",
   "name": "python",
   "nbconvert_exporter": "python",
   "pygments_lexer": "ipython3",
   "version": "3.6.0"
  }
 },
 "nbformat": 4,
 "nbformat_minor": 2
}
