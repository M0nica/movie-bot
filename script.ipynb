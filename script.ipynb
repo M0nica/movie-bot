{
 "cells": [
  {
   "cell_type": "code",
   "execution_count": 7,
   "metadata": {
    "collapsed": false,
    "deletable": true,
    "editable": true
   },
   "outputs": [],
   "source": [
    "import config\n",
    "import time\n",
    "from twython import Twython, TwythonError\n",
    "import requests"
   ]
  },
  {
   "cell_type": "code",
   "execution_count": 29,
   "metadata": {
    "collapsed": false,
    "deletable": true,
    "editable": true
   },
   "outputs": [],
   "source": [
    "imdb_key = config.imdb_key\n",
    "\n",
    "# create a Twython object by passing the necessary secret passwords\n",
    "twitter = Twython(config.api_key, config.api_secret, config.access_token, config.token_secret)\n"
   ]
  },
  {
   "cell_type": "code",
   "execution_count": 30,
   "metadata": {
    "collapsed": true,
    "deletable": true,
    "editable": true
   },
   "outputs": [],
   "source": [
    "response = twitter.get_mentions_timeline(count =2, since_id=14927799)"
   ]
  },
  {
   "cell_type": "code",
   "execution_count": 31,
   "metadata": {
    "collapsed": false,
    "deletable": true,
    "editable": true
   },
   "outputs": [
    {
     "name": "stdout",
     "output_type": "stream",
     "text": [
      "[{'source': '<a href=\"http://twitter.com\" rel=\"nofollow\">Twitter Web Client</a>', 'id': 979167943505448961, 'in_reply_to_user_id_str': '979150529837371394', 'place': None, 'retweet_count': 0, 'retweeted': False, 'contributors': None, 'in_reply_to_status_id': None, 'in_reply_to_status_id_str': None, 'truncated': False, 'lang': 'en', 'geo': None, 'coordinates': None, 'in_reply_to_screen_name': 'TheMovieFacts_', 'favorited': False, 'id_str': '979167943505448961', 'text': '@themoviefacts_ revenue home alone', 'in_reply_to_user_id': 979150529837371394, 'entities': {'hashtags': [], 'user_mentions': [{'id': 979150529837371394, 'name': 'Movie Facts', 'screen_name': 'TheMovieFacts_', 'id_str': '979150529837371394', 'indices': [0, 15]}], 'symbols': [], 'urls': []}, 'created_at': 'Thu Mar 29 01:26:44 +0000 2018', 'user': {'profile_background_image_url_https': 'https://pbs.twimg.com/profile_background_images/441609532/er.png', 'id': 365119419, 'friends_count': 750, 'profile_image_url_https': 'https://pbs.twimg.com/profile_images/913888476092932096/O5tHX6n0_normal.jpg', 'contributors_enabled': False, 'name': 'Monica 👩🏾\\u200d💻', 'is_translation_enabled': False, 'is_translator': False, 'statuses_count': 11053, 'screen_name': 'waterproofheart', 'location': 'New York, New York', 'notifications': False, 'geo_enabled': True, 'followers_count': 940, 'favourites_count': 19866, 'profile_background_color': 'C0DEED', 'translator_type': 'none', 'entities': {'url': {'urls': [{'expanded_url': 'http://aboutmonica.com', 'display_url': 'aboutmonica.com', 'url': 'https://t.co/KxvS5PWq7r', 'indices': [0, 23]}]}, 'description': {'urls': [{'expanded_url': 'http://github.com/M0nica', 'display_url': 'github.com/M0nica', 'url': 'https://t.co/w2hCyWdoge', 'indices': [100, 123]}, {'expanded_url': 'http://datalogues.com', 'display_url': 'datalogues.com', 'url': 'https://t.co/iwBsmxB8FO', 'indices': [129, 152]}]}}, 'id_str': '365119419', 'time_zone': 'Quito', 'default_profile': False, 'url': 'https://t.co/KxvS5PWq7r', 'following': False, 'profile_sidebar_border_color': 'C0DEED', 'created_at': 'Tue Aug 30 22:03:40 +0000 2011', 'utc_offset': -18000, 'profile_use_background_image': True, 'protected': False, 'profile_background_image_url': 'http://pbs.twimg.com/profile_background_images/441609532/er.png', 'verified': False, 'description': 'Making tech more enjoyable & accessible. Always up to chat data vis, web dev or #BlackGirlMagic.👩🏾\\u200d💻https://t.co/w2hCyWdoge | ✍🏾 https://t.co/iwBsmxB8FO', 'profile_background_tile': True, 'profile_sidebar_fill_color': 'DDEEF6', 'profile_image_url': 'http://pbs.twimg.com/profile_images/913888476092932096/O5tHX6n0_normal.jpg', 'lang': 'en', 'default_profile_image': False, 'profile_text_color': '333333', 'listed_count': 71, 'follow_request_sent': False, 'profile_banner_url': 'https://pbs.twimg.com/profile_banners/365119419/1472932872', 'profile_link_color': '8A6976', 'has_extended_profile': True}, 'is_quote_status': False, 'favorite_count': 0}, {'source': '<a href=\"http://twitter.com\" rel=\"nofollow\">Twitter Web Client</a>', 'id': 979166591886782464, 'in_reply_to_user_id_str': '979150529837371394', 'place': None, 'retweet_count': 0, 'retweeted': False, 'contributors': None, 'in_reply_to_status_id': None, 'in_reply_to_status_id_str': None, 'truncated': False, 'lang': 'en', 'geo': None, 'coordinates': None, 'in_reply_to_screen_name': 'TheMovieFacts_', 'favorited': False, 'id_str': '979166591886782464', 'text': '@TheMovieFacts_ revenue snow white', 'in_reply_to_user_id': 979150529837371394, 'entities': {'hashtags': [], 'user_mentions': [{'id': 979150529837371394, 'name': 'Movie Facts', 'screen_name': 'TheMovieFacts_', 'id_str': '979150529837371394', 'indices': [0, 15]}], 'symbols': [], 'urls': []}, 'created_at': 'Thu Mar 29 01:21:22 +0000 2018', 'user': {'profile_background_image_url_https': 'https://pbs.twimg.com/profile_background_images/441609532/er.png', 'id': 365119419, 'friends_count': 750, 'profile_image_url_https': 'https://pbs.twimg.com/profile_images/913888476092932096/O5tHX6n0_normal.jpg', 'contributors_enabled': False, 'name': 'Monica 👩🏾\\u200d💻', 'is_translation_enabled': False, 'is_translator': False, 'statuses_count': 11053, 'screen_name': 'waterproofheart', 'location': 'New York, New York', 'notifications': False, 'geo_enabled': True, 'followers_count': 940, 'favourites_count': 19866, 'profile_background_color': 'C0DEED', 'translator_type': 'none', 'entities': {'url': {'urls': [{'expanded_url': 'http://aboutmonica.com', 'display_url': 'aboutmonica.com', 'url': 'https://t.co/KxvS5PWq7r', 'indices': [0, 23]}]}, 'description': {'urls': [{'expanded_url': 'http://github.com/M0nica', 'display_url': 'github.com/M0nica', 'url': 'https://t.co/w2hCyWdoge', 'indices': [100, 123]}, {'expanded_url': 'http://datalogues.com', 'display_url': 'datalogues.com', 'url': 'https://t.co/iwBsmxB8FO', 'indices': [129, 152]}]}}, 'id_str': '365119419', 'time_zone': 'Quito', 'default_profile': False, 'url': 'https://t.co/KxvS5PWq7r', 'following': False, 'profile_sidebar_border_color': 'C0DEED', 'created_at': 'Tue Aug 30 22:03:40 +0000 2011', 'utc_offset': -18000, 'profile_use_background_image': True, 'protected': False, 'profile_background_image_url': 'http://pbs.twimg.com/profile_background_images/441609532/er.png', 'verified': False, 'description': 'Making tech more enjoyable & accessible. Always up to chat data vis, web dev or #BlackGirlMagic.👩🏾\\u200d💻https://t.co/w2hCyWdoge | ✍🏾 https://t.co/iwBsmxB8FO', 'profile_background_tile': True, 'profile_sidebar_fill_color': 'DDEEF6', 'profile_image_url': 'http://pbs.twimg.com/profile_images/913888476092932096/O5tHX6n0_normal.jpg', 'lang': 'en', 'default_profile_image': False, 'profile_text_color': '333333', 'listed_count': 71, 'follow_request_sent': False, 'profile_banner_url': 'https://pbs.twimg.com/profile_banners/365119419/1472932872', 'profile_link_color': '8A6976', 'has_extended_profile': True}, 'is_quote_status': False, 'favorite_count': 0}]\n"
     ]
    }
   ],
   "source": [
    "print(response)"
   ]
  },
  {
   "cell_type": "code",
   "execution_count": 45,
   "metadata": {
    "collapsed": false,
    "deletable": true,
    "editable": true
   },
   "outputs": [
    {
     "name": "stdout",
     "output_type": "stream",
     "text": [
      "home alone\n"
     ]
    }
   ],
   "source": [
    "line = response[0]['text']\n",
    "id = response[0]['id_str']\n",
    "\n",
    "screenname = response[0]['user']['screen_name']\n",
    "\n",
    "\n",
    "\n",
    "#line = \"@TheMovieFacts_ revenue black panther\"\n",
    "movie_query = line[24:]\n",
    "print(movie_query)"
   ]
  },
  {
   "cell_type": "code",
   "execution_count": 46,
   "metadata": {
    "collapsed": false,
    "deletable": true,
    "editable": true
   },
   "outputs": [
    {
     "name": "stdout",
     "output_type": "stream",
     "text": [
      "{'video': False, 'release_date': '1997-12-12', 'original_title': 'Home Alone 3', 'genre_ids': [35, 10751], 'id': 9714, 'vote_average': 5, 'backdrop_path': '/gt8Pe0H2kdm99yuHYDs8goKbTkn.jpg', 'title': 'Home Alone 3', 'overview': '9-year-old Alex Pruitt is home alone with the chicken pox. Turns out, due to a mix-up among nefarious spies, Alex was given a toy car concealing a top-secret microchip. Now Alex must fend off the spies as they try break into his house to get it back.', 'adult': False, 'original_language': 'en', 'popularity': 10.380476, 'vote_count': 863, 'poster_path': '/z6ugEdjGuY4qcX1ymdV2CTVSvKN.jpg'}\n"
     ]
    }
   ],
   "source": [
    "# query = \"Black Panther\"\n",
    "response = requests.get('https://api.themoviedb.org/3/search/movie?api_key=' +  imdb_key  + '&language=en-US&page=1&include_adult=false&query=' + movie_query)\n",
    "\n",
    "movies = response.json()\n",
    "print(movies['results'][0])\n",
    "\n",
    "\n",
    "movie_id = movies['results'][0]['id']"
   ]
  },
  {
   "cell_type": "code",
   "execution_count": 47,
   "metadata": {
    "collapsed": false,
    "deletable": true,
    "editable": true
   },
   "outputs": [
    {
     "name": "stdout",
     "output_type": "stream",
     "text": [
      "{'id': 9714, 'release_date': '1997-12-12', 'original_title': 'Home Alone 3', 'video': False, 'spoken_languages': [{'iso_639_1': 'pl', 'name': 'Polski'}, {'iso_639_1': 'en', 'name': 'English'}], 'title': 'Home Alone 3', 'production_companies': [{'logo_path': None, 'id': 477, 'name': 'Hughes Entertainment', 'origin_country': ''}, {'logo_path': '/qZCc1lty5FzX30aOCVRBLzaVmcp.png', 'id': 25, 'name': '20th Century Fox', 'origin_country': 'US'}], 'runtime': 102, 'original_language': 'en', 'popularity': 9.380476, 'status': 'Released', 'vote_count': 869, 'production_countries': [{'name': 'United States of America', 'iso_3166_1': 'US'}], 'poster_path': '/z6ugEdjGuY4qcX1ymdV2CTVSvKN.jpg', 'revenue': 79082515, 'genres': [{'id': 35, 'name': 'Comedy'}, {'id': 10751, 'name': 'Family'}], 'homepage': 'http://www.ha3.com/', 'backdrop_path': '/gt8Pe0H2kdm99yuHYDs8goKbTkn.jpg', 'imdb_id': 'tt0119303', 'vote_average': 5.0, 'tagline': 'Ready for more. Much more.', 'budget': 32000000, 'adult': False, 'overview': '9-year-old Alex Pruitt is home alone with the chicken pox. Turns out, due to a mix-up among nefarious spies, Alex was given a toy car concealing a top-secret microchip. Now Alex must fend off the spies as they try break into his house to get it back.', 'belongs_to_collection': {'id': 9888, 'name': 'Home Alone Collection', 'poster_path': '/zYPsleQJo1n1rBPlecJBRb3iwSO.jpg', 'backdrop_path': '/cYS2aWxECESUN2OS3JiLrKMmOko.jpg'}}\n"
     ]
    }
   ],
   "source": [
    "response = requests.get('https://api.themoviedb.org/3/movie/'+ str(movie_id) + '?api_key=' +  imdb_key  + '&language=en-US')\n",
    "\n",
    "movie = response.json()\n",
    "\n",
    "print(movie)\n"
   ]
  },
  {
   "cell_type": "code",
   "execution_count": 48,
   "metadata": {
    "collapsed": true,
    "deletable": true,
    "editable": true
   },
   "outputs": [],
   "source": [
    "# import math\n",
    "\n",
    "# millnames = ['',' Thousand',' Million',' Billion',' Trillion']\n",
    "\n",
    "# def millify(n):\n",
    "#     n = float(n)\n",
    "#     millidx = max(0,min(len(millnames)-1,\n",
    "#                         int(math.floor(0 if n == 0 else math.log10(abs(n))/3))))\n",
    "\n",
    "#     return '{:.0f}{}'.format(n / 10**(3 * millidx), millnames[millidx])"
   ]
  },
  {
   "cell_type": "code",
   "execution_count": 49,
   "metadata": {
    "collapsed": false,
    "deletable": true,
    "editable": true
   },
   "outputs": [],
   "source": [
    "revenue = movie['revenue']\n",
    "\n"
   ]
  },
  {
   "cell_type": "code",
   "execution_count": 50,
   "metadata": {
    "collapsed": false,
    "deletable": true,
    "editable": true
   },
   "outputs": [
    {
     "ename": "NameError",
     "evalue": "name 'millify' is not defined",
     "output_type": "error",
     "traceback": [
      "\u001b[0;31m---------------------------------------------------------------------------\u001b[0m",
      "\u001b[0;31mNameError\u001b[0m                                 Traceback (most recent call last)",
      "\u001b[0;32m<ipython-input-50-2283d025842c>\u001b[0m in \u001b[0;36m<module>\u001b[0;34m()\u001b[0m\n\u001b[0;32m----> 1\u001b[0;31m \u001b[0mmillify\u001b[0m\u001b[0;34m(\u001b[0m\u001b[0mrevenue\u001b[0m\u001b[0;34m)\u001b[0m\u001b[0;34m\u001b[0m\u001b[0m\n\u001b[0m",
      "\u001b[0;31mNameError\u001b[0m: name 'millify' is not defined"
     ]
    }
   ],
   "source": [
    "millify(revenue)"
   ]
  },
  {
   "cell_type": "code",
   "execution_count": 51,
   "metadata": {
    "collapsed": false,
    "deletable": true,
    "editable": true
   },
   "outputs": [],
   "source": [
    "def millions_formatter(revenue, m=1000000):\n",
    "    # If the number evenly divides 1000000, you can convert its division of 1000000 to an integer\n",
    "    if revenue % m == 0:\n",
    "        revenue = int(revenue/m)\n",
    "    else:\n",
    "        # Otherwise use a floating representation\n",
    "        revenue = float(revenue/m)\n",
    "    return '{}m'.format(revenue)\n",
    "\n",
    "    print('{} --> {}'.format(revenue, millions_formatter(revenue)))"
   ]
  },
  {
   "cell_type": "code",
   "execution_count": 52,
   "metadata": {
    "collapsed": false,
    "deletable": true,
    "editable": true
   },
   "outputs": [
    {
     "data": {
      "text/plain": [
       "'79.082515m'"
      ]
     },
     "execution_count": 52,
     "metadata": {},
     "output_type": "execute_result"
    }
   ],
   "source": [
    "millions_formatter(revenue)"
   ]
  },
  {
   "cell_type": "code",
   "execution_count": 53,
   "metadata": {
    "collapsed": false,
    "deletable": true,
    "editable": true
   },
   "outputs": [],
   "source": [
    "import humanize"
   ]
  },
  {
   "cell_type": "markdown",
   "metadata": {
    "deletable": true,
    "editable": true
   },
   "source": [
    "millify(revenue)"
   ]
  },
  {
   "cell_type": "code",
   "execution_count": 54,
   "metadata": {
    "collapsed": false,
    "deletable": true,
    "editable": true
   },
   "outputs": [],
   "source": [
    "revenue_formatted = \"$\" + humanize.intword(revenue)"
   ]
  },
  {
   "cell_type": "code",
   "execution_count": 55,
   "metadata": {
    "collapsed": false,
    "deletable": true,
    "editable": true
   },
   "outputs": [
    {
     "data": {
      "text/plain": [
       "'$79.1 million'"
      ]
     },
     "execution_count": 55,
     "metadata": {},
     "output_type": "execute_result"
    }
   ],
   "source": [
    "revenue_formatted"
   ]
  },
  {
   "cell_type": "code",
   "execution_count": 56,
   "metadata": {
    "collapsed": false,
    "deletable": true,
    "editable": true
   },
   "outputs": [
    {
     "name": "stdout",
     "output_type": "stream",
     "text": [
      "979167943505448961\n"
     ]
    }
   ],
   "source": [
    "print(id)"
   ]
  },
  {
   "cell_type": "code",
   "execution_count": 59,
   "metadata": {
    "collapsed": false,
    "deletable": true,
    "editable": true
   },
   "outputs": [
    {
     "data": {
      "text/plain": [
       "'Home Alone 3 has earned $79.1 million in revenue.'"
      ]
     },
     "execution_count": 59,
     "metadata": {},
     "output_type": "execute_result"
    }
   ],
   "source": [
    "movie['original_title'] + \" has earned \" + revenue_formatted + \" in revenue.\""
   ]
  },
  {
   "cell_type": "code",
   "execution_count": 60,
   "metadata": {
    "collapsed": false,
    "deletable": true,
    "editable": true
   },
   "outputs": [
    {
     "data": {
      "text/plain": [
       "{'contributors': None,\n",
       " 'coordinates': None,\n",
       " 'created_at': 'Thu Mar 29 21:34:03 +0000 2018',\n",
       " 'entities': {'hashtags': [],\n",
       "  'symbols': [],\n",
       "  'urls': [],\n",
       "  'user_mentions': [{'id': 365119419,\n",
       "    'id_str': '365119419',\n",
       "    'indices': [0, 16],\n",
       "    'name': 'Monica 👩🏾\\u200d💻',\n",
       "    'screen_name': 'waterproofheart'}]},\n",
       " 'favorite_count': 0,\n",
       " 'favorited': False,\n",
       " 'geo': None,\n",
       " 'id': 979471776487964674,\n",
       " 'id_str': '979471776487964674',\n",
       " 'in_reply_to_screen_name': 'waterproofheart',\n",
       " 'in_reply_to_status_id': None,\n",
       " 'in_reply_to_status_id_str': None,\n",
       " 'in_reply_to_user_id': 365119419,\n",
       " 'in_reply_to_user_id_str': '365119419',\n",
       " 'is_quote_status': False,\n",
       " 'lang': 'en',\n",
       " 'place': None,\n",
       " 'retweet_count': 0,\n",
       " 'retweeted': False,\n",
       " 'source': '<a href=\"http://www.aboutmonica.com\" rel=\"nofollow\">imdb-api</a>',\n",
       " 'text': '@waterproofheart Home Alone 3 has earned $79.1 million in revenue.',\n",
       " 'truncated': False,\n",
       " 'user': {'contributors_enabled': False,\n",
       "  'created_at': 'Thu Mar 29 00:17:32 +0000 2018',\n",
       "  'default_profile': True,\n",
       "  'default_profile_image': True,\n",
       "  'description': '',\n",
       "  'entities': {'description': {'urls': []}},\n",
       "  'favourites_count': 0,\n",
       "  'follow_request_sent': False,\n",
       "  'followers_count': 0,\n",
       "  'following': False,\n",
       "  'friends_count': 0,\n",
       "  'geo_enabled': False,\n",
       "  'has_extended_profile': False,\n",
       "  'id': 979150529837371394,\n",
       "  'id_str': '979150529837371394',\n",
       "  'is_translation_enabled': False,\n",
       "  'is_translator': False,\n",
       "  'lang': 'en',\n",
       "  'listed_count': 0,\n",
       "  'location': '',\n",
       "  'name': 'Movie Facts',\n",
       "  'notifications': False,\n",
       "  'profile_background_color': 'F5F8FA',\n",
       "  'profile_background_image_url': None,\n",
       "  'profile_background_image_url_https': None,\n",
       "  'profile_background_tile': False,\n",
       "  'profile_image_url': 'http://abs.twimg.com/sticky/default_profile_images/default_profile_normal.png',\n",
       "  'profile_image_url_https': 'https://abs.twimg.com/sticky/default_profile_images/default_profile_normal.png',\n",
       "  'profile_link_color': '1DA1F2',\n",
       "  'profile_sidebar_border_color': 'C0DEED',\n",
       "  'profile_sidebar_fill_color': 'DDEEF6',\n",
       "  'profile_text_color': '333333',\n",
       "  'profile_use_background_image': True,\n",
       "  'protected': False,\n",
       "  'screen_name': 'TheMovieFacts_',\n",
       "  'statuses_count': 6,\n",
       "  'time_zone': None,\n",
       "  'translator_type': 'none',\n",
       "  'url': None,\n",
       "  'utc_offset': None,\n",
       "  'verified': False}}"
      ]
     },
     "execution_count": 60,
     "metadata": {},
     "output_type": "execute_result"
    }
   ],
   "source": [
    "twitter.update_status(status='@' + screenname + \" \" + movie['original_title'] + \" has earned \" + revenue_formatted + \" in revenue.\", in_reply_to_status_id_str=id)\n",
    "\n",
    "\n"
   ]
  },
  {
   "cell_type": "code",
   "execution_count": null,
   "metadata": {
    "collapsed": true,
    "deletable": true,
    "editable": true
   },
   "outputs": [],
   "source": []
  },
  {
   "cell_type": "code",
   "execution_count": null,
   "metadata": {
    "collapsed": true,
    "deletable": true,
    "editable": true
   },
   "outputs": [],
   "source": []
  },
  {
   "cell_type": "code",
   "execution_count": null,
   "metadata": {
    "collapsed": true,
    "deletable": true,
    "editable": true
   },
   "outputs": [],
   "source": []
  },
  {
   "cell_type": "code",
   "execution_count": null,
   "metadata": {
    "collapsed": true,
    "deletable": true,
    "editable": true
   },
   "outputs": [],
   "source": []
  }
 ],
 "metadata": {
  "kernelspec": {
   "display_name": "Python 3",
   "language": "python",
   "name": "python3"
  },
  "language_info": {
   "codemirror_mode": {
    "name": "ipython",
    "version": 3
   },
   "file_extension": ".py",
   "mimetype": "text/x-python",
   "name": "python",
   "nbconvert_exporter": "python",
   "pygments_lexer": "ipython3",
   "version": "3.5.2"
  }
 },
 "nbformat": 4,
 "nbformat_minor": 2
}
